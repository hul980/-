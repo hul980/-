{
 "cells": [
  {
   "cell_type": "code",
   "execution_count": null,
   "metadata": {
    "colab": {
     "base_uri": "https://localhost:8080/"
    },
    "executionInfo": {
     "elapsed": 397,
     "status": "ok",
     "timestamp": 1629477770334,
     "user": {
      "displayName": "이영석",
      "photoUrl": "",
      "userId": "05938684673482326731"
     },
     "user_tz": -540
    },
    "id": "lLy9PZ-QXIiW",
    "outputId": "d224454b-2bf8-465b-d89c-8b433218437e"
   },
   "outputs": [
    {
     "name": "stdout",
     "output_type": "stream",
     "text": [
      "[nltk_data] Downloading package punkt to /root/nltk_data...\n",
      "[nltk_data]   Package punkt is already up-to-date!\n"
     ]
    }
   ],
   "source": [
    "import re, time, requests, json\n",
    "import numpy as np\n",
    "import pandas as pd\n",
    "import matplotlib.pyplot as plt\n",
    "\n",
    "from tensorflow.keras.datasets import imdb\n",
    "\n",
    "from tensorflow.keras.preprocessing.sequence import pad_sequences\n",
    "from tensorflow.keras.models import Sequential, load_model\n",
    "from tensorflow.keras.layers import Dense, GRU, Embedding\n",
    "from tensorflow.keras.callbacks import EarlyStopping, ModelCheckpoint\n",
    "\n",
    "import nltk\n",
    "nltk.download('punkt')\n",
    "from nltk.tokenize import word_tokenize"
   ]
  },
  {
   "cell_type": "code",
   "execution_count": null,
   "metadata": {
    "colab": {
     "base_uri": "https://localhost:8080/"
    },
    "executionInfo": {
     "elapsed": 9,
     "status": "ok",
     "timestamp": 1629477770734,
     "user": {
      "displayName": "이영석",
      "photoUrl": "",
      "userId": "05938684673482326731"
     },
     "user_tz": -540
    },
    "id": "8iaSFyzAXKcL",
    "outputId": "3f1b80e9-0c22-434b-e0ae-810d350a692c"
   },
   "outputs": [
    {
     "name": "stdout",
     "output_type": "stream",
     "text": [
      "Drive already mounted at /content/drive; to attempt to forcibly remount, call drive.mount(\"/content/drive\", force_remount=True).\n"
     ]
    }
   ],
   "source": [
    "from google.colab import drive\n",
    "drive.mount('/content/drive')"
   ]
  },
  {
   "cell_type": "code",
   "execution_count": null,
   "metadata": {
    "id": "zAdn2wDgmRvI"
   },
   "outputs": [],
   "source": [
    "#IMDB데이터 준비\n",
    "word_to_index = imdb.get_word_index()\n",
    "index_to_word={}\n",
    "for key, value in word_to_index.items():\n",
    "    index_to_word[value+3] = key\n",
    "    \n",
    "vocab_size = 20000\n",
    "(X_train, y_train), (X_test, y_test) = imdb.load_data(num_words = vocab_size)"
   ]
  },
  {
   "cell_type": "code",
   "execution_count": null,
   "metadata": {
    "id": "eH7q036LTqFF"
   },
   "outputs": [],
   "source": [
    "#\n",
    "test_data = pd.read_csv('/content/drive/MyDrive/Colab Notebooks/FoDoDic_ew_진짜_최초라벨링.csv')\n",
    "X_test = test_data.sample(frac=0.25, random_state=42)\n",
    "y_test = np.array(test_data['label'])"
   ]
  },
  {
   "cell_type": "code",
   "execution_count": null,
   "metadata": {
    "colab": {
     "base_uri": "https://localhost:8080/",
     "height": 418
    },
    "executionInfo": {
     "elapsed": 15,
     "status": "ok",
     "timestamp": 1629477777338,
     "user": {
      "displayName": "이영석",
      "photoUrl": "",
      "userId": "05938684673482326731"
     },
     "user_tz": -540
    },
    "id": "HdRlGmkgWZ-O",
    "outputId": "057ff72a-dc83-4673-f998-fd9fa51706c2"
   },
   "outputs": [
    {
     "data": {
      "text/html": [
       "<div>\n",
       "<style scoped>\n",
       "    .dataframe tbody tr th:only-of-type {\n",
       "        vertical-align: middle;\n",
       "    }\n",
       "\n",
       "    .dataframe tbody tr th {\n",
       "        vertical-align: top;\n",
       "    }\n",
       "\n",
       "    .dataframe thead th {\n",
       "        text-align: right;\n",
       "    }\n",
       "</style>\n",
       "<table border=\"1\" class=\"dataframe\">\n",
       "  <thead>\n",
       "    <tr style=\"text-align: right;\">\n",
       "      <th></th>\n",
       "      <th>number</th>\n",
       "      <th>best_comment</th>\n",
       "      <th>최종</th>\n",
       "    </tr>\n",
       "  </thead>\n",
       "  <tbody>\n",
       "    <tr>\n",
       "      <th>207794</th>\n",
       "      <td>207794</td>\n",
       "      <td>Damn, everyone’s showing up again. Shit is get...</td>\n",
       "      <td>1.0</td>\n",
       "    </tr>\n",
       "    <tr>\n",
       "      <th>297255</th>\n",
       "      <td>297255</td>\n",
       "      <td>TOPFlint is best boi convince me otherwise</td>\n",
       "      <td>1.0</td>\n",
       "    </tr>\n",
       "    <tr>\n",
       "      <th>175111</th>\n",
       "      <td>175111</td>\n",
       "      <td>Space Boy, Studio Ghibli, and Moving a lot?! I...</td>\n",
       "      <td>1.0</td>\n",
       "    </tr>\n",
       "    <tr>\n",
       "      <th>352918</th>\n",
       "      <td>352918</td>\n",
       "      <td>Damn Chase is a damn good detective. If I was ...</td>\n",
       "      <td>0.0</td>\n",
       "    </tr>\n",
       "    <tr>\n",
       "      <th>130482</th>\n",
       "      <td>130482</td>\n",
       "      <td>Prepare for trouble and make it double. 😈</td>\n",
       "      <td>0.0</td>\n",
       "    </tr>\n",
       "    <tr>\n",
       "      <th>...</th>\n",
       "      <td>...</td>\n",
       "      <td>...</td>\n",
       "      <td>...</td>\n",
       "    </tr>\n",
       "    <tr>\n",
       "      <th>60463</th>\n",
       "      <td>60463</td>\n",
       "      <td>Awww 3:Gandharva has frozen tears on his face....</td>\n",
       "      <td>1.0</td>\n",
       "    </tr>\n",
       "    <tr>\n",
       "      <th>162039</th>\n",
       "      <td>162039</td>\n",
       "      <td>TOPAh, just casualy killing hundreds \"this is ...</td>\n",
       "      <td>0.0</td>\n",
       "    </tr>\n",
       "    <tr>\n",
       "      <th>158210</th>\n",
       "      <td>158210</td>\n",
       "      <td>Btw, has anyone noticed that these dudes have ...</td>\n",
       "      <td>0.0</td>\n",
       "    </tr>\n",
       "    <tr>\n",
       "      <th>265930</th>\n",
       "      <td>265930</td>\n",
       "      <td>TOPYALL QTIP LOOKIN FFIIIINNNEEE THIS EVENING ...</td>\n",
       "      <td>1.0</td>\n",
       "    </tr>\n",
       "    <tr>\n",
       "      <th>233895</th>\n",
       "      <td>233895</td>\n",
       "      <td>DONT HURT TEDDY HIS CAT IS SICK HE'S GOTTA GO ...</td>\n",
       "      <td>0.0</td>\n",
       "    </tr>\n",
       "  </tbody>\n",
       "</table>\n",
       "<p>93534 rows × 3 columns</p>\n",
       "</div>"
      ],
      "text/plain": [
       "        number                                       best_comment   최종\n",
       "207794  207794  Damn, everyone’s showing up again. Shit is get...  1.0\n",
       "297255  297255         TOPFlint is best boi convince me otherwise  1.0\n",
       "175111  175111  Space Boy, Studio Ghibli, and Moving a lot?! I...  1.0\n",
       "352918  352918  Damn Chase is a damn good detective. If I was ...  0.0\n",
       "130482  130482          Prepare for trouble and make it double. 😈  0.0\n",
       "...        ...                                                ...  ...\n",
       "60463    60463  Awww 3:Gandharva has frozen tears on his face....  1.0\n",
       "162039  162039  TOPAh, just casualy killing hundreds \"this is ...  0.0\n",
       "158210  158210  Btw, has anyone noticed that these dudes have ...  0.0\n",
       "265930  265930  TOPYALL QTIP LOOKIN FFIIIINNNEEE THIS EVENING ...  1.0\n",
       "233895  233895  DONT HURT TEDDY HIS CAT IS SICK HE'S GOTTA GO ...  0.0\n",
       "\n",
       "[93534 rows x 3 columns]"
      ]
     },
     "execution_count": 42,
     "metadata": {},
     "output_type": "execute_result"
    }
   ],
   "source": [
    "X_test"
   ]
  },
  {
   "cell_type": "code",
   "execution_count": null,
   "metadata": {
    "id": "CJoFV0z6V2ON"
   },
   "outputs": [],
   "source": [
    "X_test = []\n",
    "for sentence in test_data['best_comment']:\n",
    "    temp_X = word_tokenize(sentence) # 형태소분리\n",
    "    X_test.append(temp_X)"
   ]
  },
  {
   "cell_type": "code",
   "execution_count": null,
   "metadata": {
    "id": "VKN2a8mpXntS"
   },
   "outputs": [],
   "source": [
    "from tensorflow.keras.preprocessing.text import Tokenizer\n",
    "\n",
    "tokenizer = Tokenizer()\n",
    "tokenizer.fit_on_texts(str(X_test))\n",
    "threshold = 3\n",
    "\n",
    "total_cnt = len(tokenizer.word_index) # 단어의 수\n",
    "rare_cnt = 0 # 등장 빈도수가 threshold보다 작은 단어의 개수를 카운트\n",
    "total_freq = 0 # 훈련 데이터의 전체 단어 빈도수 총 합\n",
    "rare_freq = 0 # 등장 빈도수가 threshold보다 작은 단어의 등장 빈도수의 총 합\n",
    "\n",
    "# 단어와 빈도수의 쌍(pair)을 key와 value로 받는다.\n",
    "for key, value in tokenizer.word_counts.items():\n",
    "    total_freq = total_freq + value\n",
    "\n",
    "    # 단어의 등장 빈도수가 threshold보다 작으면\n",
    "    if(value < threshold):\n",
    "        rare_cnt = rare_cnt + 1\n",
    "        rare_freq = rare_freq + value\n",
    "\n",
    "tokenizer = Tokenizer(vocab_size) \n",
    "tokenizer.fit_on_texts(X_test)\n",
    "X_test = tokenizer.texts_to_sequences(X_test)"
   ]
  },
  {
   "cell_type": "code",
   "execution_count": null,
   "metadata": {
    "id": "OLMZuFKeYu5X"
   },
   "outputs": [],
   "source": [
    "y_test = np.array(test_data['label'])\n"
   ]
  },
  {
   "cell_type": "code",
   "execution_count": null,
   "metadata": {
    "id": "pEWP5IrU3Gxp"
   },
   "outputs": [],
   "source": [
    "max_len = 500\n",
    "X_train = pad_sequences(X_train, maxlen=max_len)\n",
    "X_test = pad_sequences(X_test, maxlen=max_len)"
   ]
  },
  {
   "cell_type": "code",
   "execution_count": null,
   "metadata": {
    "colab": {
     "base_uri": "https://localhost:8080/"
    },
    "executionInfo": {
     "elapsed": 9,
     "status": "ok",
     "timestamp": 1629478313087,
     "user": {
      "displayName": "이영석",
      "photoUrl": "",
      "userId": "05938684673482326731"
     },
     "user_tz": -540
    },
    "id": "jnucayLryRU1",
    "outputId": "79c0ad3e-cd71-4a1a-fec1-76ec14742dde"
   },
   "outputs": [
    {
     "data": {
      "text/plain": [
       "(25000, 500)"
      ]
     },
     "execution_count": 49,
     "metadata": {},
     "output_type": "execute_result"
    }
   ],
   "source": [
    "X_train.shape"
   ]
  },
  {
   "cell_type": "code",
   "execution_count": null,
   "metadata": {
    "colab": {
     "base_uri": "https://localhost:8080/"
    },
    "executionInfo": {
     "elapsed": 7,
     "status": "ok",
     "timestamp": 1629478313088,
     "user": {
      "displayName": "이영석",
      "photoUrl": "",
      "userId": "05938684673482326731"
     },
     "user_tz": -540
    },
    "id": "MOGtQQROW1Bc",
    "outputId": "a86d8e39-6161-4617-d2f0-76dfd9befbe8"
   },
   "outputs": [
    {
     "data": {
      "text/plain": [
       "(374137, 500)"
      ]
     },
     "execution_count": 50,
     "metadata": {},
     "output_type": "execute_result"
    }
   ],
   "source": [
    "X_test.shape"
   ]
  },
  {
   "cell_type": "code",
   "execution_count": null,
   "metadata": {
    "id": "S748kLby3GvY"
   },
   "outputs": [],
   "source": [
    "model = Sequential()\n",
    "model.add(Embedding(vocab_size, 100))\n",
    "model.add(GRU(128))\n",
    "model.add(Dense(1, activation='sigmoid'))"
   ]
  },
  {
   "cell_type": "code",
   "execution_count": null,
   "metadata": {
    "colab": {
     "base_uri": "https://localhost:8080/"
    },
    "executionInfo": {
     "elapsed": 2143208,
     "status": "ok",
     "timestamp": 1629480456291,
     "user": {
      "displayName": "이영석",
      "photoUrl": "",
      "userId": "05938684673482326731"
     },
     "user_tz": -540
    },
    "id": "0smI7C__3Gtf",
    "outputId": "7df0edf1-1fba-4365-a5a0-4a52adfed7f1"
   },
   "outputs": [
    {
     "name": "stdout",
     "output_type": "stream",
     "text": [
      "Epoch 1/15\n",
      "334/334 [==============================] - 241s 716ms/step - loss: 0.4905 - acc: 0.7679 - val_loss: 0.4510 - val_acc: 0.7934\n",
      "\n",
      "Epoch 00001: acc improved from -inf to 0.76790, saving model to GRU_model.h5\n",
      "Epoch 2/15\n",
      "334/334 [==============================] - 238s 712ms/step - loss: 0.2915 - acc: 0.8853 - val_loss: 0.2891 - val_acc: 0.8842\n",
      "\n",
      "Epoch 00002: acc improved from 0.76790 to 0.88535, saving model to GRU_model.h5\n",
      "Epoch 3/15\n",
      "334/334 [==============================] - 238s 712ms/step - loss: 0.2180 - acc: 0.9192 - val_loss: 0.2946 - val_acc: 0.8774\n",
      "\n",
      "Epoch 00003: acc improved from 0.88535 to 0.91920, saving model to GRU_model.h5\n",
      "Epoch 4/15\n",
      "334/334 [==============================] - 238s 713ms/step - loss: 0.1684 - acc: 0.9395 - val_loss: 0.2878 - val_acc: 0.8916\n",
      "\n",
      "Epoch 00004: acc improved from 0.91920 to 0.93955, saving model to GRU_model.h5\n",
      "Epoch 5/15\n",
      "334/334 [==============================] - 237s 710ms/step - loss: 0.1256 - acc: 0.9568 - val_loss: 0.2779 - val_acc: 0.8864\n",
      "\n",
      "Epoch 00005: acc improved from 0.93955 to 0.95685, saving model to GRU_model.h5\n",
      "Epoch 6/15\n",
      "334/334 [==============================] - 238s 713ms/step - loss: 0.0974 - acc: 0.9668 - val_loss: 0.2834 - val_acc: 0.8942\n",
      "\n",
      "Epoch 00006: acc improved from 0.95685 to 0.96675, saving model to GRU_model.h5\n",
      "Epoch 7/15\n",
      "334/334 [==============================] - 237s 711ms/step - loss: 0.0688 - acc: 0.9765 - val_loss: 0.4171 - val_acc: 0.8808\n",
      "\n",
      "Epoch 00007: acc improved from 0.96675 to 0.97650, saving model to GRU_model.h5\n",
      "Epoch 8/15\n",
      "334/334 [==============================] - 237s 710ms/step - loss: 0.0476 - acc: 0.9839 - val_loss: 0.3369 - val_acc: 0.8914\n",
      "\n",
      "Epoch 00008: acc improved from 0.97650 to 0.98390, saving model to GRU_model.h5\n",
      "Epoch 9/15\n",
      "334/334 [==============================] - 238s 712ms/step - loss: 0.0313 - acc: 0.9897 - val_loss: 0.3986 - val_acc: 0.8902\n",
      "\n",
      "Epoch 00009: acc improved from 0.98390 to 0.98965, saving model to GRU_model.h5\n",
      "Epoch 00009: early stopping\n"
     ]
    }
   ],
   "source": [
    "es = EarlyStopping(monitor='val_loss', mode='min', verbose=1, patience=4)\n",
    "mc = ModelCheckpoint('GRU_model.h5', monitor='acc', mode='max', verbose=1, save_best_only=True)\n",
    "\n",
    "model.compile(optimizer='rmsprop', loss='binary_crossentropy', metrics=['acc'])\n",
    "history = model.fit(X_train, y_train, epochs=15, callbacks=[es, mc], batch_size=60, validation_split=0.2)"
   ]
  },
  {
   "cell_type": "code",
   "execution_count": null,
   "metadata": {
    "colab": {
     "base_uri": "https://localhost:8080/"
    },
    "executionInfo": {
     "elapsed": 1107303,
     "status": "ok",
     "timestamp": 1629481563583,
     "user": {
      "displayName": "이영석",
      "photoUrl": "",
      "userId": "05938684673482326731"
     },
     "user_tz": -540
    },
    "id": "vkDTzD8p3GrQ",
    "outputId": "8d7c4a54-3c47-439f-8423-6cd1fcb02bd5"
   },
   "outputs": [
    {
     "name": "stdout",
     "output_type": "stream",
     "text": [
      "11692/11692 [==============================] - 1106s 95ms/step - loss: 1.5143 - acc: 0.4680\n",
      "\n",
      " 테스트 정확도: 0.4680\n"
     ]
    }
   ],
   "source": [
    "loaded_model = load_model('GRU_model.h5')\n",
    "print(\"\\n 테스트 정확도: %.4f\" % (loaded_model.evaluate(X_test, y_test)[1]))"
   ]
  },
  {
   "cell_type": "code",
   "execution_count": null,
   "metadata": {
    "id": "dT7HSceHs_4s"
   },
   "outputs": [],
   "source": [
    "#저장\n",
    "model_json = model.to_json()\n",
    "with open(\"/content/drive/MyDrive/imdo_to_FoDo_model.json\", \"w\") as json_file:\n",
    "    json_file.write(model_json)\n",
    "\n",
    "model.save_weights(\"/content/drive/MyDrive/imdo_to_FoDo_mode.h5\")"
   ]
  }
 ],
 "metadata": {
  "accelerator": "TPU",
  "colab": {
   "collapsed_sections": [],
   "name": "Eng_IMDB.ipynb로 포도사전",
   "provenance": [
    {
     "file_id": "1kr-0sx8l0Sezqz2oVO8jyEN9nFTQxSXA",
     "timestamp": 1629472798624
    }
   ]
  },
  "kernelspec": {
   "display_name": "Python 3",
   "language": "python",
   "name": "python3"
  },
  "language_info": {
   "codemirror_mode": {
    "name": "ipython",
    "version": 3
   },
   "file_extension": ".py",
   "mimetype": "text/x-python",
   "name": "python",
   "nbconvert_exporter": "python",
   "pygments_lexer": "ipython3",
   "version": "3.8.8"
  }
 },
 "nbformat": 4,
 "nbformat_minor": 1
}
